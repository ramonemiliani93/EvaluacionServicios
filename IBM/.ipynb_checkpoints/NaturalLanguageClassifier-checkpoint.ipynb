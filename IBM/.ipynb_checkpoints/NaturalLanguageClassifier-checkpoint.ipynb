{
 "cells": [
  {
   "cell_type": "markdown",
   "metadata": {},
   "source": [
    "#### Código para evaluar los servicios de IBM Watson"
   ]
  },
  {
   "cell_type": "code",
   "execution_count": 20,
   "metadata": {},
   "outputs": [],
   "source": [
    "import json\n",
    "import os\n",
    "import csv\n",
    "import re\n",
    "import numpy as np\n",
    "import string\n",
    "import pandas as pd\n",
    "from watson_developer_cloud import NaturalLanguageClassifierV1"
   ]
  },
  {
   "cell_type": "markdown",
   "metadata": {},
   "source": [
    "##### Credenciales"
   ]
  },
  {
   "cell_type": "code",
   "execution_count": 2,
   "metadata": {},
   "outputs": [],
   "source": [
    "natural_language_classifier = NaturalLanguageClassifierV1(\n",
    "    username='9018fd7f-3bde-4cd5-9e62-0d0bb4034941',\n",
    "    password='mOpCvYnMEEMf')"
   ]
  },
  {
   "cell_type": "markdown",
   "metadata": {},
   "source": [
    "##### Ver si hay clasificadores registrados"
   ]
  },
  {
   "cell_type": "code",
   "execution_count": 3,
   "metadata": {},
   "outputs": [
    {
     "name": "stdout",
     "output_type": "stream",
     "text": [
      "{\n",
      "  \"classifiers\": [\n",
      "    {\n",
      "      \"classifier_id\": \"0015a0x264-nlc-8473\",\n",
      "      \"url\": \"https://gateway.watsonplatform.net/natural-language-classifier/api/v1/classifiers/0015a0x264-nlc-8473\",\n",
      "      \"name\": \"tweets\",\n",
      "      \"language\": \"es\",\n",
      "      \"created\": \"2018-01-18T22:40:56.848Z\"\n",
      "    },\n",
      "    {\n",
      "      \"classifier_id\": \"0015a0x264-nlc-8477\",\n",
      "      \"url\": \"https://gateway.watsonplatform.net/natural-language-classifier/api/v1/classifiers/0015a0x264-nlc-8477\",\n",
      "      \"name\": \"tweets\",\n",
      "      \"language\": \"es\",\n",
      "      \"created\": \"2018-01-18T22:45:07.365Z\"\n",
      "    }\n",
      "  ]\n",
      "}\n"
     ]
    }
   ],
   "source": [
    "classifiers = natural_language_classifier.list_classifiers()\n",
    "print(json.dumps(classifiers, indent=2))"
   ]
  },
  {
   "cell_type": "markdown",
   "metadata": {},
   "source": [
    "##### Crear un clasificador"
   ]
  },
  {
   "cell_type": "code",
   "execution_count": 107,
   "metadata": {},
   "outputs": [
    {
     "name": "stdout",
     "output_type": "stream",
     "text": [
      "{\n",
      "  \"classifier_id\": \"0015a0x264-nlc-8477\",\n",
      "  \"name\": \"tweets\",\n",
      "  \"language\": \"es\",\n",
      "  \"created\": \"2018-01-18T22:45:07.365Z\",\n",
      "  \"url\": \"https://gateway.watsonplatform.net/natural-language-classifier/api/v1/classifiers/0015a0x264-nlc-8477\",\n",
      "  \"status\": \"Training\",\n",
      "  \"status_description\": \"The classifier instance is in its training phase, not yet ready to accept classify requests\"\n",
      "}\n"
     ]
    }
   ],
   "source": [
    "with open('Tweets/output.csv', 'rb') as training_data:\n",
    "    metadata = json.dumps({'name': 'tweets', 'language': 'es'})\n",
    "    classifier = natural_language_classifier.create_classifier(\n",
    "        metadata=metadata,\n",
    "        training_data=training_data)\n",
    "    print(json.dumps(classifier, indent=2))"
   ]
  },
  {
   "cell_type": "markdown",
   "metadata": {},
   "source": [
    "##### Resvisar status del clasificador"
   ]
  },
  {
   "cell_type": "code",
   "execution_count": 4,
   "metadata": {},
   "outputs": [
    {
     "name": "stdout",
     "output_type": "stream",
     "text": [
      "{\n",
      "  \"classifier_id\": \"0015a0x264-nlc-8473\",\n",
      "  \"name\": \"tweets\",\n",
      "  \"language\": \"es\",\n",
      "  \"created\": \"2018-01-18T22:40:56.848Z\",\n",
      "  \"url\": \"https://gateway.watsonplatform.net/natural-language-classifier/api/v1/classifiers/0015a0x264-nlc-8473\",\n",
      "  \"status\": \"Available\",\n",
      "  \"status_description\": \"The classifier instance is now available and is ready to take classifier requests.\"\n",
      "}\n"
     ]
    }
   ],
   "source": [
    "status = natural_language_classifier.get_classifier(\"0015a0x264-nlc-8473\")\n",
    "print(json.dumps(status, indent=2))"
   ]
  },
  {
   "cell_type": "markdown",
   "metadata": {},
   "source": [
    "##### Clasificar texto"
   ]
  },
  {
   "cell_type": "code",
   "execution_count": 16,
   "metadata": {},
   "outputs": [
    {
     "name": "stdout",
     "output_type": "stream",
     "text": [
      "{\n",
      "  \"classifier_id\": \"0015a0x264-nlc-8473\",\n",
      "  \"url\": \"https://gateway.watsonplatform.net/natural-language-classifier/api/v1/classifiers/0015a0x264-nlc-8473\",\n",
      "  \"text\": \"sobre la tragedia de \\u00e3\\u201cscar p\\u00e3\\u00a9rez y nuestra propuesta para atender la crisis humanitaria y recuperar la econom\\u00e3\\u00ada de\\u00e2\\u00a6 https://t.co/4lzcuvyw2e\",\n",
      "  \"top_class\": \"Uribe\",\n",
      "  \"classes\": [\n",
      "    {\n",
      "      \"class_name\": \"Uribe\",\n",
      "      \"confidence\": 0.9930331843225991\n",
      "    },\n",
      "    {\n",
      "      \"class_name\": \"Falcao\",\n",
      "      \"confidence\": 0.005236697945905128\n",
      "    },\n",
      "    {\n",
      "      \"class_name\": \"Cejas\",\n",
      "      \"confidence\": 0.0017301177314956728\n",
      "    }\n",
      "  ]\n",
      "}\n"
     ]
    }
   ],
   "source": [
    "tweet = \"MaÃ±ana, en Barranquilla a las 5PM, acto conmemorativo: A un aÃ±o del Plebiscito:homenaje a las vÃ­ctimas y a los caÃ­dâ€¦ https://t.co/PZoYCpmsDt\"\n",
    "tweet = clean_tweet(tweet)\n",
    "if status['status'] == 'Available':\n",
    "    classes = natural_language_classifier.classify('0015a0x264-nlc-8473',tweet)\n",
    "    print(json.dumps(classes, indent=2))"
   ]
  },
  {
   "cell_type": "markdown",
   "metadata": {},
   "source": [
    "##### Borrar un clasificador"
   ]
  },
  {
   "cell_type": "code",
   "execution_count": 102,
   "metadata": {},
   "outputs": [
    {
     "name": "stdout",
     "output_type": "stream",
     "text": [
      "null\n"
     ]
    }
   ],
   "source": [
    "delete = natural_language_classifier.delete_classifier('0015b6x265-nlc-8437')\n",
    "print(json.dumps(delete, indent=2))"
   ]
  },
  {
   "cell_type": "code",
   "execution_count": 92,
   "metadata": {},
   "outputs": [],
   "source": [
    "input_file = open('Tweets/train.csv', 'r')\n",
    "output_file = open('Tweets/output.csv', 'w')\n",
    "data = csv.reader(input_file)\n",
    "writer = csv.writer(output_file)\n",
    "specials = [\"Ã\", \"©\", \"â\", \"º\", \"³\", \"¡\",\"±\",\"¦\", \"-\", \"#\", \"@\", \"š\", \"€\", \"¼\", \"ð\", \"Ÿ\",\"Â\", \"™\", \"˜\", \"­\", \"“\",\n",
    "           \"\\t\", \"\\r\", \"\\n\", \"\\rn\", \"œ\", \"Ž\", \"¥\", \"‰\", \"’\", \"‹\", \"£\", \"&\", \",\",\"'\", \"‘\", \"ÿ\", \"»\", \"/\", \"¿\", \"ï\", \"ž\", \n",
    "           \"‡\", \"¨\", \"$\", \"=\", \"´\", \"¯\", ]\n",
    "for line in data:\n",
    "    words = line[0].split()\n",
    "    line = [re.sub('[^0-9a-zA-Z]+', '', word) for word in words]\n",
    "    line = [\" \".join(line).lower()]\n",
    "    writer.writerow(line)\n",
    "\n",
    "input_file.close()\n",
    "output_file.close() "
   ]
  },
  {
   "cell_type": "code",
   "execution_count": 15,
   "metadata": {},
   "outputs": [],
   "source": [
    "def clean_tweet(tweet):\n",
    "    tweet = tweet.split()\n",
    "    tweet = [re.sub('[^0-9a-zA-Z]+', '', words) for words in tweet]\n",
    "    tweet = \" \".join(line).lower()\n",
    "    return tweet"
   ]
  },
  {
   "cell_type": "code",
   "execution_count": 22,
   "metadata": {},
   "outputs": [
    {
     "name": "stdout",
     "output_type": "stream",
     "text": [
      "[[202.   0.   0.]\n",
      " [  0. 217.   5.]\n",
      " [  4.   1. 163.]]\n"
     ]
    }
   ],
   "source": [
    "input_file = open('Tweets/test.csv', 'r')\n",
    "data = csv.reader(input_file)\n",
    "string_to_int = {\"Uribe\":0,\"Falcao\":1,\"Cejas\":2}\n",
    "confusion_matrix = np.zeros((3,3))\n",
    "for line in data:\n",
    "    tweet = clean_tweet(line[0])\n",
    "    label = string_to_int[line[1]]\n",
    "    prediction = natural_language_classifier.classify('0015a0x264-nlc-8473', tweet)\n",
    "    prediction = prediction[\"top_class\"]\n",
    "    prediction = string_to_int[prediction]\n",
    "    temp = np.zeros((3,3))\n",
    "    temp[label,prediction] = 1\n",
    "    confusion_matrix = confusion_matrix + temp\n",
    "print(confusion_matrix)\n",
    "    "
   ]
  },
  {
   "cell_type": "code",
   "execution_count": null,
   "metadata": {},
   "outputs": [],
   "source": []
  }
 ],
 "metadata": {
  "kernelspec": {
   "display_name": "Python 3",
   "language": "python",
   "name": "python3"
  },
  "language_info": {
   "codemirror_mode": {
    "name": "ipython",
    "version": 3
   },
   "file_extension": ".py",
   "mimetype": "text/x-python",
   "name": "python",
   "nbconvert_exporter": "python",
   "pygments_lexer": "ipython3",
   "version": "3.6.4"
  }
 },
 "nbformat": 4,
 "nbformat_minor": 2
}
